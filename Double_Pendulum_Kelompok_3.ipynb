{
  "nbformat": 4,
  "nbformat_minor": 0,
  "metadata": {
    "colab": {
      "provenance": []
    },
    "kernelspec": {
      "name": "python3",
      "display_name": "Python 3"
    },
    "language_info": {
      "name": "python"
    }
  },
  "cells": [
    {
      "cell_type": "code",
      "execution_count": 1,
      "metadata": {
        "id": "TK4STl3Wq-_c"
      },
      "outputs": [],
      "source": [
        "import numpy as np # Library yang berfungsi untuk mengolah data berbentuk array dengan metode komputasi ilmiah.\n",
        "import sympy as smp # Library yang digunakan untuk matematika simbolis. \n",
        "from scipy.integrate import odeint\n",
        "import matplotlib.pyplot as plt \n",
        "from matplotlib import animation\n",
        "from mpl_toolkits.mplot3d import Axes3D\n",
        "from matplotlib.animation import PillowWriter"
      ]
    },
    {
      "cell_type": "code",
      "source": [
        "# Menentukan variabel yang diperlukan untuk sympy.\n",
        "t, m, g, L1, L2, w, C, alph, beta = smp.symbols(r't m g L_1, L_2 \\omega C \\alpha \\beta')"
      ],
      "metadata": {
        "id": "t6eKC8UarDpA"
      },
      "execution_count": 2,
      "outputs": []
    },
    {
      "cell_type": "code",
      "source": [
        "# Menentukan θ_1(t) dan θ_2(t) dan nyatakan fungsi waktu. Dari sini dapatkan juga turunan pertama dan kedua.\n",
        "the1, the2, =  smp.symbols(r'\\theta_1, \\theta_2 ', cls=smp.Function)\n",
        "\n",
        "the1 = the1(t)\n",
        "the1_d = smp.diff(the1, t)\n",
        "the1_dd = smp.diff(the1_d, t)\n",
        "\n",
        "the2 = the2(t)\n",
        "the2_d = smp.diff(the2, t)\n",
        "the2_dd = smp.diff(smp.diff(the2, t), t)"
      ],
      "metadata": {
        "id": "LCheMgkTrHFw"
      },
      "execution_count": 3,
      "outputs": []
    },
    {
      "cell_type": "code",
      "source": [
        "# Mendefinisikan x_1(θ_1), y_1(θ_1) dan x_2(θ_1,θ_2), y_2(θ_1,θ_2).\n",
        "x1, y1, x2, y2 = smp.symbols('x_1, y_1, x_2, y_2', cls=smp.Function)\n",
        "x1= x1(t, the1)\n",
        "y1= y1(t, the1)\n",
        "x2= x2(t, the1, the2)\n",
        "y2= y2(t, the1, the2)"
      ],
      "metadata": {
        "id": "C76pQu2krK4p"
      },
      "execution_count": 4,
      "outputs": []
    },
    {
      "cell_type": "code",
      "source": [
        "# Masukkan ke dalam bentuk fungsional spesifik x1, y1, x2, y2\n",
        "x1 = smp.cos(w*t)+L1*smp.sin(the1)\n",
        "y1 = -L1*smp.cos(the1)\n",
        "x2 = smp.cos(w*t)+L1*smp.sin(the1) + L2*smp.sin(the2)\n",
        "y2 = -L1*smp.cos(the1) -L2*smp.cos(the2)"
      ],
      "metadata": {
        "id": "cGrYXFaKrOPv"
      },
      "execution_count": 5,
      "outputs": []
    },
    {
      "cell_type": "code",
      "source": [
        "# Menentukan fungsi numerik untuk Vx1, Vy1, Vx2, Vy2. \n",
        "smp.diff(x1, t)\n",
        "\n",
        "vx1_f = smp.lambdify((t,w,L1,L2,the1,the2,the1_d,the2_d), smp.diff(x1, t))\n",
        "vx2_f = smp.lambdify((t,w,L1,L2,the1,the2,the1_d,the2_d), smp.diff(x2, t))\n",
        "vy1_f = smp.lambdify((t,w,L1,L2,the1,the2,the1_d,the2_d), smp.diff(y1, t))\n",
        "vy2_f = smp.lambdify((t,w,L1,L2,the1,the2,the1_d,the2_d), smp.diff(y2, t))"
      ],
      "metadata": {
        "id": "ApUpsMKcrQkU"
      },
      "execution_count": 6,
      "outputs": []
    },
    {
      "cell_type": "code",
      "source": [
        "# Menentukan Energi Kinetik T, energi potensial V, dan untuk Pers. Lagrange nya L = T - V\n",
        "T = 1/2 * (smp.diff(x1, t)**2 + smp.diff(y1, t)**2) + \\\n",
        "    1/2 * m  *(smp.diff(x2, t)**2 + + smp.diff(y2, t)**2)\n",
        "V = g*y1 + m*g*y2\n",
        "L = T-V"
      ],
      "metadata": {
        "id": "T-gDmZsxrTip"
      },
      "execution_count": 7,
      "outputs": []
    },
    {
      "cell_type": "code",
      "source": [
        "# Untuk menyelesaikan Pers. Lagrange\n",
        "LE1 = smp.diff(L, the1) - smp.diff(smp.diff(L, the1_d), t)\n",
        "LE1 = LE1.simplify()\n",
        "\n",
        "LE2 = smp.diff(L, the2) - smp.diff(smp.diff(L, the2_d), t)\n",
        "LE2 = LE2.simplify()"
      ],
      "metadata": {
        "id": "rTnfxbvDrcN1"
      },
      "execution_count": 8,
      "outputs": []
    },
    {
      "cell_type": "code",
      "source": [
        "LE1"
      ],
      "metadata": {
        "colab": {
          "base_uri": "https://localhost:8080/",
          "height": 88
        },
        "id": "I2E6u9cxrffQ",
        "outputId": "92c634f6-2432-41a8-a04e-05066b3c69e7"
      },
      "execution_count": 9,
      "outputs": [
        {
          "output_type": "execute_result",
          "data": {
            "text/plain": [
              "1.0*L_1*(-L_1*m*Derivative(\\theta_1(t), (t, 2)) - L_1*Derivative(\\theta_1(t), (t, 2)) - L_2*m*sin(\\theta_1(t) - \\theta_2(t))*Derivative(\\theta_2(t), t)**2 - L_2*m*cos(\\theta_1(t) - \\theta_2(t))*Derivative(\\theta_2(t), (t, 2)) + \\omega**2*m*cos(\\omega*t)*cos(\\theta_1(t)) + \\omega**2*cos(\\omega*t)*cos(\\theta_1(t)) - g*m*sin(\\theta_1(t)) - g*sin(\\theta_1(t)))"
            ],
            "text/latex": "$\\displaystyle 1.0 L_{1} \\left(- L_{1} m \\frac{d^{2}}{d t^{2}} \\theta_{1}{\\left(t \\right)} - L_{1} \\frac{d^{2}}{d t^{2}} \\theta_{1}{\\left(t \\right)} - L_{2} m \\sin{\\left(\\theta_{1}{\\left(t \\right)} - \\theta_{2}{\\left(t \\right)} \\right)} \\left(\\frac{d}{d t} \\theta_{2}{\\left(t \\right)}\\right)^{2} - L_{2} m \\cos{\\left(\\theta_{1}{\\left(t \\right)} - \\theta_{2}{\\left(t \\right)} \\right)} \\frac{d^{2}}{d t^{2}} \\theta_{2}{\\left(t \\right)} + \\omega^{2} m \\cos{\\left(\\omega t \\right)} \\cos{\\left(\\theta_{1}{\\left(t \\right)} \\right)} + \\omega^{2} \\cos{\\left(\\omega t \\right)} \\cos{\\left(\\theta_{1}{\\left(t \\right)} \\right)} - g m \\sin{\\left(\\theta_{1}{\\left(t \\right)} \\right)} - g \\sin{\\left(\\theta_{1}{\\left(t \\right)} \\right)}\\right)$"
          },
          "metadata": {},
          "execution_count": 9
        }
      ]
    },
    {
      "cell_type": "code",
      "source": [
        "LE2"
      ],
      "metadata": {
        "colab": {
          "base_uri": "https://localhost:8080/",
          "height": 68
        },
        "id": "jZNt4fNRrhe2",
        "outputId": "2c3b8a61-5946-4c01-e02d-da422f952e5e"
      },
      "execution_count": 10,
      "outputs": [
        {
          "output_type": "execute_result",
          "data": {
            "text/plain": [
              "1.0*L_2*m*(L_1*sin(\\theta_1(t) - \\theta_2(t))*Derivative(\\theta_1(t), t)**2 - L_1*cos(\\theta_1(t) - \\theta_2(t))*Derivative(\\theta_1(t), (t, 2)) - L_2*Derivative(\\theta_2(t), (t, 2)) + \\omega**2*cos(\\omega*t)*cos(\\theta_2(t)) - g*sin(\\theta_2(t)))"
            ],
            "text/latex": "$\\displaystyle 1.0 L_{2} m \\left(L_{1} \\sin{\\left(\\theta_{1}{\\left(t \\right)} - \\theta_{2}{\\left(t \\right)} \\right)} \\left(\\frac{d}{d t} \\theta_{1}{\\left(t \\right)}\\right)^{2} - L_{1} \\cos{\\left(\\theta_{1}{\\left(t \\right)} - \\theta_{2}{\\left(t \\right)} \\right)} \\frac{d^{2}}{d t^{2}} \\theta_{1}{\\left(t \\right)} - L_{2} \\frac{d^{2}}{d t^{2}} \\theta_{2}{\\left(t \\right)} + \\omega^{2} \\cos{\\left(\\omega t \\right)} \\cos{\\left(\\theta_{2}{\\left(t \\right)} \\right)} - g \\sin{\\left(\\theta_{2}{\\left(t \\right)} \\right)}\\right)$"
          },
          "metadata": {},
          "execution_count": 10
        }
      ]
    },
    {
      "cell_type": "code",
      "source": [
        "# Karena keduanya sama dengan nol dan linier dalam ∂_t^2 θ_1 dan ∂_t^2 θ_2, kita bisa menyelesaikan semuanya dalam ∂_t^2 θ_1 dan ∂_t^2 θ_2 (ini memberi dua ODE orde kedua yang digabungkan).\n",
        "sols = smp.solve([LE1, LE2], (the1_dd, the2_dd),\n",
        "                simplify=False, rational=False)\n",
        "\n",
        "sols[the1_dd] #d^2 / dt^2 theta_1"
      ],
      "metadata": {
        "colab": {
          "base_uri": "https://localhost:8080/",
          "height": 145
        },
        "id": "8AslDbMGrj1f",
        "outputId": "3f5e967f-f966-43a2-9632-4905475694f5"
      },
      "execution_count": 11,
      "outputs": [
        {
          "output_type": "execute_result",
          "data": {
            "text/plain": [
              "L_1*m*sin(\\theta_1(t) - \\theta_2(t))*cos(\\theta_1(t) - \\theta_2(t))*Derivative(\\theta_1(t), t)**2/(L_1*m*cos(\\theta_1(t) - \\theta_2(t))**2 - L_1*m - L_1) + L_2*m*sin(\\theta_1(t) - \\theta_2(t))*Derivative(\\theta_2(t), t)**2/(L_1*m*cos(\\theta_1(t) - \\theta_2(t))**2 - L_1*m - L_1) + \\omega**2*m*cos(\\omega*t)*cos(\\theta_1(t) - \\theta_2(t))*cos(\\theta_2(t))/(L_1*m*cos(\\theta_1(t) - \\theta_2(t))**2 - L_1*m - L_1) - \\omega**2*m*cos(\\omega*t)*cos(\\theta_1(t))/(L_1*m*cos(\\theta_1(t) - \\theta_2(t))**2 - L_1*m - L_1) - \\omega**2*cos(\\omega*t)*cos(\\theta_1(t))/(L_1*m*cos(\\theta_1(t) - \\theta_2(t))**2 - L_1*m - L_1) + g*m*sin(\\theta_1(t))/(L_1*m*cos(\\theta_1(t) - \\theta_2(t))**2 - L_1*m - L_1) - g*m*sin(\\theta_2(t))*cos(\\theta_1(t) - \\theta_2(t))/(L_1*m*cos(\\theta_1(t) - \\theta_2(t))**2 - L_1*m - L_1) + g*sin(\\theta_1(t))/(L_1*m*cos(\\theta_1(t) - \\theta_2(t))**2 - L_1*m - L_1)"
            ],
            "text/latex": "$\\displaystyle \\frac{L_{1} m \\sin{\\left(\\theta_{1}{\\left(t \\right)} - \\theta_{2}{\\left(t \\right)} \\right)} \\cos{\\left(\\theta_{1}{\\left(t \\right)} - \\theta_{2}{\\left(t \\right)} \\right)} \\left(\\frac{d}{d t} \\theta_{1}{\\left(t \\right)}\\right)^{2}}{L_{1} m \\cos^{2}{\\left(\\theta_{1}{\\left(t \\right)} - \\theta_{2}{\\left(t \\right)} \\right)} - L_{1} m - L_{1}} + \\frac{L_{2} m \\sin{\\left(\\theta_{1}{\\left(t \\right)} - \\theta_{2}{\\left(t \\right)} \\right)} \\left(\\frac{d}{d t} \\theta_{2}{\\left(t \\right)}\\right)^{2}}{L_{1} m \\cos^{2}{\\left(\\theta_{1}{\\left(t \\right)} - \\theta_{2}{\\left(t \\right)} \\right)} - L_{1} m - L_{1}} + \\frac{\\omega^{2} m \\cos{\\left(\\omega t \\right)} \\cos{\\left(\\theta_{1}{\\left(t \\right)} - \\theta_{2}{\\left(t \\right)} \\right)} \\cos{\\left(\\theta_{2}{\\left(t \\right)} \\right)}}{L_{1} m \\cos^{2}{\\left(\\theta_{1}{\\left(t \\right)} - \\theta_{2}{\\left(t \\right)} \\right)} - L_{1} m - L_{1}} - \\frac{\\omega^{2} m \\cos{\\left(\\omega t \\right)} \\cos{\\left(\\theta_{1}{\\left(t \\right)} \\right)}}{L_{1} m \\cos^{2}{\\left(\\theta_{1}{\\left(t \\right)} - \\theta_{2}{\\left(t \\right)} \\right)} - L_{1} m - L_{1}} - \\frac{\\omega^{2} \\cos{\\left(\\omega t \\right)} \\cos{\\left(\\theta_{1}{\\left(t \\right)} \\right)}}{L_{1} m \\cos^{2}{\\left(\\theta_{1}{\\left(t \\right)} - \\theta_{2}{\\left(t \\right)} \\right)} - L_{1} m - L_{1}} + \\frac{g m \\sin{\\left(\\theta_{1}{\\left(t \\right)} \\right)}}{L_{1} m \\cos^{2}{\\left(\\theta_{1}{\\left(t \\right)} - \\theta_{2}{\\left(t \\right)} \\right)} - L_{1} m - L_{1}} - \\frac{g m \\sin{\\left(\\theta_{2}{\\left(t \\right)} \\right)} \\cos{\\left(\\theta_{1}{\\left(t \\right)} - \\theta_{2}{\\left(t \\right)} \\right)}}{L_{1} m \\cos^{2}{\\left(\\theta_{1}{\\left(t \\right)} - \\theta_{2}{\\left(t \\right)} \\right)} - L_{1} m - L_{1}} + \\frac{g \\sin{\\left(\\theta_{1}{\\left(t \\right)} \\right)}}{L_{1} m \\cos^{2}{\\left(\\theta_{1}{\\left(t \\right)} - \\theta_{2}{\\left(t \\right)} \\right)} - L_{1} m - L_{1}}$"
          },
          "metadata": {},
          "execution_count": 11
        }
      ]
    },
    {
      "cell_type": "code",
      "source": [
        "LE1"
      ],
      "metadata": {
        "colab": {
          "base_uri": "https://localhost:8080/",
          "height": 88
        },
        "id": "s9FkDYTNUjsk",
        "outputId": "2acda7d2-efa3-4bb1-99db-934b9d612ee2"
      },
      "execution_count": 12,
      "outputs": [
        {
          "output_type": "execute_result",
          "data": {
            "text/plain": [
              "1.0*L_1*(-L_1*m*Derivative(\\theta_1(t), (t, 2)) - L_1*Derivative(\\theta_1(t), (t, 2)) - L_2*m*sin(\\theta_1(t) - \\theta_2(t))*Derivative(\\theta_2(t), t)**2 - L_2*m*cos(\\theta_1(t) - \\theta_2(t))*Derivative(\\theta_2(t), (t, 2)) + \\omega**2*m*cos(\\omega*t)*cos(\\theta_1(t)) + \\omega**2*cos(\\omega*t)*cos(\\theta_1(t)) - g*m*sin(\\theta_1(t)) - g*sin(\\theta_1(t)))"
            ],
            "text/latex": "$\\displaystyle 1.0 L_{1} \\left(- L_{1} m \\frac{d^{2}}{d t^{2}} \\theta_{1}{\\left(t \\right)} - L_{1} \\frac{d^{2}}{d t^{2}} \\theta_{1}{\\left(t \\right)} - L_{2} m \\sin{\\left(\\theta_{1}{\\left(t \\right)} - \\theta_{2}{\\left(t \\right)} \\right)} \\left(\\frac{d}{d t} \\theta_{2}{\\left(t \\right)}\\right)^{2} - L_{2} m \\cos{\\left(\\theta_{1}{\\left(t \\right)} - \\theta_{2}{\\left(t \\right)} \\right)} \\frac{d^{2}}{d t^{2}} \\theta_{2}{\\left(t \\right)} + \\omega^{2} m \\cos{\\left(\\omega t \\right)} \\cos{\\left(\\theta_{1}{\\left(t \\right)} \\right)} + \\omega^{2} \\cos{\\left(\\omega t \\right)} \\cos{\\left(\\theta_{1}{\\left(t \\right)} \\right)} - g m \\sin{\\left(\\theta_{1}{\\left(t \\right)} \\right)} - g \\sin{\\left(\\theta_{1}{\\left(t \\right)} \\right)}\\right)$"
          },
          "metadata": {},
          "execution_count": 12
        }
      ]
    },
    {
      "cell_type": "code",
      "source": [
        "a = LE1.subs([(smp.sin(the1-the2), the1-the2),\n",
        "         (smp.cos(the1-the2), 1),\n",
        "         (smp.cos(the1), 1),\n",
        "         (smp.sin(the1), the1),\n",
        "         (the1, C*smp.cos(w*t)),\n",
        "         (the2, C*alph*smp.cos(w*t)),\n",
        "         (m, 1),\n",
        "         (L2, L1),\n",
        "         ]).doit().series(C, 0, 2).removeO().simplify()"
      ],
      "metadata": {
        "id": "1tD_i_OKrsCS"
      },
      "execution_count": 13,
      "outputs": []
    },
    {
      "cell_type": "code",
      "source": [
        "b = LE2.subs([(smp.sin(the1-the2), the1-the2),\n",
        "         (smp.cos(the1-the2), 1),\n",
        "         (smp.cos(the1), 1),\n",
        "         (smp.cos(the2), 1),\n",
        "         (smp.sin(the1), the1),\n",
        "         (smp.sin(the2), the2), \n",
        "         (the1, C*smp.cos(w*t)),\n",
        "         (the2, C*alph*smp.cos(w*t)),\n",
        "         (m, 1),\n",
        "         (L2, L1),\n",
        "         ]).doit().series(C, 0, 2).removeO().simplify()"
      ],
      "metadata": {
        "id": "PKITf-CfryN3"
      },
      "execution_count": 14,
      "outputs": []
    },
    {
      "cell_type": "code",
      "source": [
        "yeet = smp.solve([a.args[1], b.args[2]], (w, alph))"
      ],
      "metadata": {
        "id": "nAGzgecKr1t_"
      },
      "execution_count": 15,
      "outputs": []
    },
    {
      "cell_type": "code",
      "source": [
        "yeet[2][0]"
      ],
      "metadata": {
        "colab": {
          "base_uri": "https://localhost:8080/",
          "height": 82
        },
        "id": "JHoKceHvr4Q4",
        "outputId": "e266c344-0649-4523-f1b9-7ee8b2db60dc"
      },
      "execution_count": 16,
      "outputs": [
        {
          "output_type": "execute_result",
          "data": {
            "text/plain": [
              "-sqrt(-C*g*(-2.0 + 1.4142135623731*(C**2*L_1**2 + C*L_1 + 0.5)**0.5/(C*L_1) - 1/(C*L_1))/(C*L_1 + 1.0))"
            ],
            "text/latex": "$\\displaystyle - \\sqrt{- \\frac{C g \\left(-2.0 + \\frac{1.4142135623731 \\left(C^{2} L_{1}^{2} + C L_{1} + 0.5\\right)^{0.5}}{C L_{1}} - \\frac{1}{C L_{1}}\\right)}{C L_{1} + 1.0}}$"
          },
          "metadata": {},
          "execution_count": 16
        }
      ]
    },
    {
      "cell_type": "code",
      "source": [
        "# Mengatur β=CL_1 dan ambil batas limitnya sebagai β mendekati ∞\n",
        "yeet[0][0]"
      ],
      "metadata": {
        "colab": {
          "base_uri": "https://localhost:8080/",
          "height": 82
        },
        "id": "YG3iyg3ur6Qm",
        "outputId": "733ddce8-529b-4257-dcee-fde688210170"
      },
      "execution_count": 17,
      "outputs": [
        {
          "output_type": "execute_result",
          "data": {
            "text/plain": [
              "-sqrt(-C*g*(-2.0 - 1.4142135623731*(C**2*L_1**2 + C*L_1 + 0.5)**0.5/(C*L_1) - 1/(C*L_1))/(C*L_1 + 1.0))"
            ],
            "text/latex": "$\\displaystyle - \\sqrt{- \\frac{C g \\left(-2.0 - \\frac{1.4142135623731 \\left(C^{2} L_{1}^{2} + C L_{1} + 0.5\\right)^{0.5}}{C L_{1}} - \\frac{1}{C L_{1}}\\right)}{C L_{1} + 1.0}}$"
          },
          "metadata": {},
          "execution_count": 17
        }
      ]
    },
    {
      "cell_type": "code",
      "source": [
        "smp.limit(yeet[1][0].subs(C, beta/L1).simplify(), beta, smp.oo)"
      ],
      "metadata": {
        "colab": {
          "base_uri": "https://localhost:8080/",
          "height": 58
        },
        "id": "dWEJicT2r_r-",
        "outputId": "8bd69f70-f348-40af-b37a-3764e724e235"
      },
      "execution_count": 18,
      "outputs": [
        {
          "output_type": "execute_result",
          "data": {
            "text/plain": [
              "1.84775906502257*sqrt(g/L_1)"
            ],
            "text/latex": "$\\displaystyle 1.84775906502257 \\sqrt{\\frac{g}{L_{1}}}$"
          },
          "metadata": {},
          "execution_count": 18
        }
      ]
    },
    {
      "cell_type": "code",
      "source": [
        "# Mengubah persamaan eksak da memasukkan kedalam persamaan numerik.\n",
        "dz1dt_f = smp.lambdify((t, m, g, w, L1, L2, the1, the2, the1_d, the2_d), sols[the1_dd])\n",
        "dthe1dt_f = smp.lambdify(the1_d, the1_d)\n",
        "\n",
        "dz2dt_f = smp.lambdify((t, m, g, w, L1, L2, the1, the2, the1_d, the2_d), sols[the2_dd])\n",
        "dthe2dt_f = smp.lambdify(the2_d, the2_d)\n"
      ],
      "metadata": {
        "id": "DHZ6w73xsC_c"
      },
      "execution_count": 19,
      "outputs": []
    },
    {
      "cell_type": "code",
      "source": [
        "# Mendefinisikan persamaan diferensial fungsi S.\n",
        "def dSdt(S, t):\n",
        "    the1, z1, the2, z2 = S\n",
        "    return [\n",
        "        dthe1dt_f(z1),\n",
        "        dz1dt_f(t, m, g, w, L1, L2, the1, the2, z1, z2),\n",
        "        dthe2dt_f(z2),\n",
        "        dz2dt_f(t, m, g, w, L1, L2, the1, the2, z1, z2),\n",
        "    ]"
      ],
      "metadata": {
        "id": "MOovYFntUujH"
      },
      "execution_count": 20,
      "outputs": []
    },
    {
      "cell_type": "code",
      "source": [
        "# Menambahkan contoh fungsi numerik untuk menambahkan nilai.\n",
        "t = np.linspace(0, 20, 1000)\n",
        "g = 9.81\n",
        "m=1\n",
        "L1 = 20\n",
        "L2 = 20\n",
        "w = np.sqrt(g/L1)\n",
        "ans = odeint(dSdt, y0=[0, 0, 0, 0], t=t)"
      ],
      "metadata": {
        "id": "seVAuzA4U2IV"
      },
      "execution_count": 21,
      "outputs": []
    },
    {
      "cell_type": "code",
      "source": [
        "plt.plot(ans.T[0])"
      ],
      "metadata": {
        "colab": {
          "base_uri": "https://localhost:8080/",
          "height": 282
        },
        "id": "Y3yZ811CVFUw",
        "outputId": "8b8539e3-ddb8-495d-86dc-66b572b43759"
      },
      "execution_count": 22,
      "outputs": [
        {
          "output_type": "execute_result",
          "data": {
            "text/plain": [
              "[<matplotlib.lines.Line2D at 0x7f054cb9af10>]"
            ]
          },
          "metadata": {},
          "execution_count": 22
        },
        {
          "output_type": "display_data",
          "data": {
            "text/plain": [
              "<Figure size 432x288 with 1 Axes>"
            ],
            "image/png": "[encoded data removed]"
          },
          "metadata": {
            "needs_background": "light"
          }
        }
      ]
    },
    {
      "cell_type": "code",
      "source": [
        "# Membuat persamaan energi kinetik\n",
        "def get_energy(w):\n",
        "    t = np.linspace(0, 100, 2000)\n",
        "    ans = odeint(dSdt, y0=[0.1, 0.1, 0, 0], t=t)\n",
        "    vx1 = vx1_f(t,w,L1,L2,ans.T[0],ans.T[2],ans.T[1],ans.T[3]) \n",
        "    vx2 = vx2_f(t,w,L1,L2,ans.T[0],ans.T[2],ans.T[1],ans.T[3])\n",
        "    vy1 = vy1_f(t,w,L1,L2,ans.T[0],ans.T[2],ans.T[1],ans.T[3])\n",
        "    vy2 = vy2_f(t,w,L1,L2,ans.T[0],ans.T[2],ans.T[1],ans.T[3])\n",
        "    E = 1/2 * np.mean(vx1**2+vx2**2+vy1**2+vy2**2)\n",
        "    return E"
      ],
      "metadata": {
        "id": "YpSA2MR1U49G"
      },
      "execution_count": 23,
      "outputs": []
    },
    {
      "cell_type": "code",
      "source": [
        "ws = np.linspace(0.4, 1.3, 100)\n",
        "Es = np.vectorize(get_energy)(ws)"
      ],
      "metadata": {
        "id": "8W-aAttpVIFq"
      },
      "execution_count": 24,
      "outputs": []
    },
    {
      "cell_type": "code",
      "source": [
        "plt.plot(ws, Es)\n",
        "plt.axvline(1.84775*np.sqrt(g/L1), c='k', ls='--')\n",
        "plt.axvline(0.76536*np.sqrt(g/L1), c='k', ls='--')\n",
        "# Tautochrone\n",
        "#plt.axvline(np.sqrt(np.pi*g**(-1/2)), c='k', ls='--')\n",
        "plt.grid()"
      ],
      "metadata": {
        "colab": {
          "base_uri": "https://localhost:8080/",
          "height": 265
        },
        "id": "GtLGDHWTsLYc",
        "outputId": "6a64cbd2-6bad-4d91-8fec-d73b57332a0c"
      },
      "execution_count": 25,
      "outputs": [
        {
          "output_type": "display_data",
          "data": {
            "text/plain": [
              "<Figure size 432x288 with 1 Axes>"
            ],
            "image/png": "[encoded data removed]"
          },
          "metadata": {
            "needs_background": "light"
          }
        }
      ]
    },
    {
      "cell_type": "code",
      "source": [
        "t = np.linspace(0, 200, 20000)\n",
        "g = 9.81\n",
        "m=1\n",
        "L1 = 20\n",
        "L2 = 20\n",
        "w = ws[ws>1][np.argmax(Es[ws>1])]\n",
        "ans = odeint(dSdt, y0=[0.1, 0.1, 0, 0], t=t)"
      ],
      "metadata": {
        "id": "POgdY_X3VPyL"
      },
      "execution_count": 26,
      "outputs": []
    },
    {
      "cell_type": "code",
      "source": [
        "def get_x0y0x1y1x2y2(t, the1, the2, L1, L2):\n",
        "    return (np.cos(w*t),\n",
        "            0*t,\n",
        "            np.cos(w*t) + L1*np.sin(the1),\n",
        "            -L1*np.cos(the1),\n",
        "            np.cos(w*t) + L1*np.sin(the1) + L2*np.sin(the2),\n",
        "            -L1*np.cos(the1) - L2*np.cos(the2),\n",
        "    )"
      ],
      "metadata": {
        "id": "0lILu6rTVd2w"
      },
      "execution_count": 27,
      "outputs": []
    },
    {
      "cell_type": "code",
      "source": [
        "x0, y0, x1, y1, x2, y2 = get_x0y0x1y1x2y2(t, ans.T[0], ans.T[2], L1, L2)"
      ],
      "metadata": {
        "id": "63gM2WN5VhfG"
      },
      "execution_count": 28,
      "outputs": []
    },
    {
      "cell_type": "code",
      "source": [
        "def animate(i):\n",
        "    ln1.set_data([x0[::10][i], x1[::10][i], x2[::10][i]], [y0[::10][i], y1[::10][i], y2[::10][i]])\n",
        "    trail1 = 50            # length of motion trail of weight 1 \n",
        "    trail2 = 50            # length of motion trail of weight 2\n",
        "    ln2.set_data(x1[::10][i:max(1,i-trail1):-1], y1[::10][i:max(1,i-trail1):-1])   # marker + line of first weight\n",
        "    ln3.set_data(x2[::10][i:max(1,i-trail2):-1], y2[::10][i:max(1,i-trail2):-1])   # marker + line of the second weight"
      ],
      "metadata": {
        "id": "BJq9Udk7VkEa"
      },
      "execution_count": 29,
      "outputs": []
    },
    {
      "cell_type": "code",
      "source": [
        "fig, ax = plt.subplots(1,1, figsize=(8,8))\n",
        "ax.set_facecolor('k')\n",
        "ax.get_xaxis().set_ticks([])    # enable this to hide x axis ticks\n",
        "ax.get_yaxis().set_ticks([])    # enable this to hide y axis ticks\n",
        "ln1, = plt.plot([], [], 'ro--', lw=3, markersize=8)\n",
        "ln2, = ax.plot([], [], 'ro-',markersize = 8, alpha=0.05, color='cyan')   # line for Earth\n",
        "ln3, = ax.plot([], [], 'ro-',markersize = 8,alpha=0.05, color='cyan')\n",
        "ax.set_ylim(-44,44)\n",
        "ax.set_xlim(-44,44)\n",
        "\n",
        "ani = animation.FuncAnimation(fig, animate, frames=2000, interval=50)\n",
        "ani.save('pendulum kelompok 3.gif',writer='pillow',fps=50)"
      ],
      "metadata": {
        "colab": {
          "base_uri": "https://localhost:8080/",
          "height": 469
        },
        "id": "gySQGfjXVnSY",
        "outputId": "8102db04-fffa-4bd5-de07-9efd062ad068"
      },
      "execution_count": 49,
      "outputs": [
        {
          "output_type": "display_data",
          "data": {
            "text/plain": [
              "<Figure size 576x576 with 1 Axes>"
            ],
            "image/png": "[encoded data removed]"
          },
          "metadata": {}
        }
      ]
    }
  ]
}